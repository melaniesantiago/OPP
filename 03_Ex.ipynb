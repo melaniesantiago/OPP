{
 "cells": [
  {
   "cell_type": "code",
   "execution_count": null,
   "metadata": {},
   "outputs": [],
   "source": []
  },
  {
   "cell_type": "code",
   "execution_count": 1,
   "metadata": {},
   "outputs": [],
   "source": [
    "class Employee:\n",
    "    new_id=1\n",
    "    def __init__(self):\n",
    "        self.id =Employee.new_id\n",
    "        Employee.new_id += 1\n",
    "    def say_id(self):\n",
    "        print(f'mi id es :{self.id}')\n",
    "\n",
    "class Admin(Employee):\n",
    "    def say_id(self):\n",
    "        super().say_id()\n",
    "        print(f'soy un administrador ')\n",
    "        \n",
    "class Manager(Employee):\n",
    "    def say_id(self):\n",
    "        super().say_id()\n",
    "        print(f'estoy a cargo')        \n",
    "\n",
    "\n"
   ]
  },
  {
   "cell_type": "code",
   "execution_count": 2,
   "metadata": {},
   "outputs": [
    {
     "name": "stdout",
     "output_type": "stream",
     "text": [
      "mi id es :1\n",
      "mi id es :2\n",
      "soy un administrador \n",
      "mi id es :3\n",
      "estoy a cargo\n"
     ]
    }
   ],
   "source": [
    "Fernando = Employee()\n",
    "Fernando.say_id()\n",
    "\n",
    "Melanie=Admin()\n",
    "Melanie.say_id()\n",
    "\n",
    "Andrea = Manager()\n",
    "Andrea.say_id()"
   ]
  }
 ],
 "metadata": {
  "kernelspec": {
   "display_name": "Python 3",
   "language": "python",
   "name": "python3"
  },
  "language_info": {
   "codemirror_mode": {
    "name": "ipython",
    "version": 3
   },
   "file_extension": ".py",
   "mimetype": "text/x-python",
   "name": "python",
   "nbconvert_exporter": "python",
   "pygments_lexer": "ipython3",
   "version": "3.10.11"
  }
 },
 "nbformat": 4,
 "nbformat_minor": 2
}
