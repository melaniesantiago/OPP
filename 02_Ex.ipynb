{
 "cells": [
  {
   "cell_type": "code",
   "execution_count": null,
   "metadata": {},
   "outputs": [],
   "source": []
  },
  {
   "cell_type": "code",
   "execution_count": 2,
   "metadata": {},
   "outputs": [],
   "source": [
    "class Animal:\n",
    "    def eat(self):\n",
    "        print(f'yummy yummy! estoy comiendo')\n",
    "        \n",
    "class Cat (Animal):\n",
    "    def meow(self):\n",
    "        print('soy un gato y hago miau!')\n",
    "\n",
    "class Dog (Animal):\n",
    "    def bark(self):\n",
    "        print('soy un perro y hago guau!')"
   ]
  },
  {
   "cell_type": "code",
   "execution_count": 3,
   "metadata": {},
   "outputs": [
    {
     "name": "stdout",
     "output_type": "stream",
     "text": [
      "soy un perro y hago guau!\n",
      "yummy yummy! estoy comiendo\n",
      "soy un gato y hago miau!\n",
      "yummy yummy! estoy comiendo\n"
     ]
    }
   ],
   "source": [
    "Maya=Dog()\n",
    "Maya.bark()\n",
    "Maya.eat()\n",
    "\n",
    "Nina= Cat()\n",
    "Nina.meow()\n",
    "Nina.eat()"
   ]
  }
 ],
 "metadata": {
  "kernelspec": {
   "display_name": "Python 3",
   "language": "python",
   "name": "python3"
  },
  "language_info": {
   "codemirror_mode": {
    "name": "ipython",
    "version": 3
   },
   "file_extension": ".py",
   "mimetype": "text/x-python",
   "name": "python",
   "nbconvert_exporter": "python",
   "pygments_lexer": "ipython3",
   "version": "3.10.11"
  }
 },
 "nbformat": 4,
 "nbformat_minor": 2
}
