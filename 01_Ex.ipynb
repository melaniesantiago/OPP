{
 "cells": [
  {
   "cell_type": "code",
   "execution_count": null,
   "metadata": {},
   "outputs": [],
   "source": []
  },
  {
   "cell_type": "code",
   "execution_count": 1,
   "metadata": {},
   "outputs": [],
   "source": [
    "class Employee:\n",
    "    new_id=1\n",
    "\n",
    "    def __init__(self, name):\n",
    "       self.id=Employee.new_id\n",
    "       self.name=name\n",
    "       Employee.new_id +=1\n",
    "    def say_id(self):\n",
    "        print(f'mi nombre es: {self.name} y mi id es: {self.id}')\n"
   ]
  },
  {
   "cell_type": "code",
   "execution_count": 2,
   "metadata": {},
   "outputs": [
    {
     "name": "stdout",
     "output_type": "stream",
     "text": [
      "mi nombre es: Fernando Gonzaga y mi id es: 1\n",
      "mi nombre es: Melanie  y mi id es: 2\n"
     ]
    }
   ],
   "source": [
    "Fernando_Gonzaga = Employee(\"Fernando Gonzaga\")\n",
    "Melanie_Santiago = Employee(\"Melanie \")\n",
    "Fernando_Gonzaga.say_id()\n",
    "Melanie_Santiago.say_id()\n"
   ]
  }
 ],
 "metadata": {
  "kernelspec": {
   "display_name": "Python 3",
   "language": "python",
   "name": "python3"
  },
  "language_info": {
   "codemirror_mode": {
    "name": "ipython",
    "version": 3
   },
   "file_extension": ".py",
   "mimetype": "text/x-python",
   "name": "python",
   "nbconvert_exporter": "python",
   "pygments_lexer": "ipython3",
   "version": "3.10.11"
  }
 },
 "nbformat": 4,
 "nbformat_minor": 2
}
